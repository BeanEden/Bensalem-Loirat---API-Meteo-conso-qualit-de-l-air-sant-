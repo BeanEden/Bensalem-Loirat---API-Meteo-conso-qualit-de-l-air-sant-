{
 "cells": [
  {
   "cell_type": "code",
   "execution_count": 18,
   "id": "1d592a72",
   "metadata": {},
   "outputs": [],
   "source": [
    "import pandas as pd\n",
    "import numpy as np\n",
    "import os\n",
    "from pymongo import MongoClient\n",
    "import datetime\n",
    "import ast"
   ]
  },
  {
   "cell_type": "code",
   "execution_count": 3,
   "id": "81611287",
   "metadata": {},
   "outputs": [],
   "source": [
    "file_path = \"C:\\\\Users\\JC\\Downloads\\météo_data.csv\""
   ]
  },
  {
   "cell_type": "code",
   "execution_count": 4,
   "id": "91ace3f2",
   "metadata": {},
   "outputs": [],
   "source": [
    "df_meteo = pd.read_csv(file_path, header=0)"
   ]
  },
  {
   "cell_type": "code",
   "execution_count": 5,
   "id": "b1f8427e",
   "metadata": {},
   "outputs": [
    {
     "data": {
      "text/html": [
       "<div>\n",
       "<style scoped>\n",
       "    .dataframe tbody tr th:only-of-type {\n",
       "        vertical-align: middle;\n",
       "    }\n",
       "\n",
       "    .dataframe tbody tr th {\n",
       "        vertical-align: top;\n",
       "    }\n",
       "\n",
       "    .dataframe thead th {\n",
       "        text-align: right;\n",
       "    }\n",
       "</style>\n",
       "<table border=\"1\" class=\"dataframe\">\n",
       "  <thead>\n",
       "    <tr style=\"text-align: right;\">\n",
       "      <th></th>\n",
       "      <th>dt</th>\n",
       "      <th>main</th>\n",
       "      <th>weather</th>\n",
       "      <th>clouds</th>\n",
       "      <th>wind</th>\n",
       "      <th>visibility</th>\n",
       "      <th>pop</th>\n",
       "      <th>sys</th>\n",
       "      <th>dt_txt</th>\n",
       "      <th>rain</th>\n",
       "      <th>snow</th>\n",
       "      <th>0</th>\n",
       "    </tr>\n",
       "  </thead>\n",
       "  <tbody>\n",
       "    <tr>\n",
       "      <th>0</th>\n",
       "      <td>1731931200</td>\n",
       "      <td>{'temp': 283.75, 'feels_like': 283.22, 'temp_m...</td>\n",
       "      <td>[{'id': 803, 'main': 'Clouds', 'description': ...</td>\n",
       "      <td>{'all': 83}</td>\n",
       "      <td>{'speed': 5.61, 'deg': 250, 'gust': 11.77}</td>\n",
       "      <td>10000.0</td>\n",
       "      <td>0.00</td>\n",
       "      <td>{'pod': 'd'}</td>\n",
       "      <td>2024-11-18 12:00:00</td>\n",
       "      <td>NaN</td>\n",
       "      <td>NaN</td>\n",
       "      <td>{'temp': 283.75, 'feels_like': 283.22, 'temp_m...</td>\n",
       "    </tr>\n",
       "    <tr>\n",
       "      <th>1</th>\n",
       "      <td>1731942000</td>\n",
       "      <td>{'temp': 285.38, 'feels_like': 284.83, 'temp_m...</td>\n",
       "      <td>[{'id': 500, 'main': 'Rain', 'description': 'l...</td>\n",
       "      <td>{'all': 92}</td>\n",
       "      <td>{'speed': 5.89, 'deg': 247, 'gust': 10.37}</td>\n",
       "      <td>10000.0</td>\n",
       "      <td>0.20</td>\n",
       "      <td>{'pod': 'd'}</td>\n",
       "      <td>2024-11-18 15:00:00</td>\n",
       "      <td>{'3h': 0.1}</td>\n",
       "      <td>NaN</td>\n",
       "      <td>{'temp': 285.38, 'feels_like': 284.83, 'temp_m...</td>\n",
       "    </tr>\n",
       "    <tr>\n",
       "      <th>2</th>\n",
       "      <td>1731952800</td>\n",
       "      <td>{'temp': 285.09, 'feels_like': 284.56, 'temp_m...</td>\n",
       "      <td>[{'id': 500, 'main': 'Rain', 'description': 'l...</td>\n",
       "      <td>{'all': 100}</td>\n",
       "      <td>{'speed': 6.46, 'deg': 238, 'gust': 12.75}</td>\n",
       "      <td>10000.0</td>\n",
       "      <td>0.22</td>\n",
       "      <td>{'pod': 'n'}</td>\n",
       "      <td>2024-11-18 18:00:00</td>\n",
       "      <td>{'3h': 0.17}</td>\n",
       "      <td>NaN</td>\n",
       "      <td>{'temp': 285.09, 'feels_like': 284.56, 'temp_m...</td>\n",
       "    </tr>\n",
       "    <tr>\n",
       "      <th>3</th>\n",
       "      <td>1731963600</td>\n",
       "      <td>{'temp': 284.78, 'feels_like': 284.32, 'temp_m...</td>\n",
       "      <td>[{'id': 500, 'main': 'Rain', 'description': 'l...</td>\n",
       "      <td>{'all': 100}</td>\n",
       "      <td>{'speed': 6.82, 'deg': 240, 'gust': 13.5}</td>\n",
       "      <td>10000.0</td>\n",
       "      <td>1.00</td>\n",
       "      <td>{'pod': 'n'}</td>\n",
       "      <td>2024-11-18 21:00:00</td>\n",
       "      <td>{'3h': 0.54}</td>\n",
       "      <td>NaN</td>\n",
       "      <td>{'temp': 284.78, 'feels_like': 284.32, 'temp_m...</td>\n",
       "    </tr>\n",
       "    <tr>\n",
       "      <th>4</th>\n",
       "      <td>1731974400</td>\n",
       "      <td>{'temp': 284.95, 'feels_like': 284.43, 'temp_m...</td>\n",
       "      <td>[{'id': 500, 'main': 'Rain', 'description': 'l...</td>\n",
       "      <td>{'all': 100}</td>\n",
       "      <td>{'speed': 8.28, 'deg': 242, 'gust': 15.02}</td>\n",
       "      <td>10000.0</td>\n",
       "      <td>1.00</td>\n",
       "      <td>{'pod': 'n'}</td>\n",
       "      <td>2024-11-19 00:00:00</td>\n",
       "      <td>{'3h': 0.88}</td>\n",
       "      <td>NaN</td>\n",
       "      <td>{'temp': 284.95, 'feels_like': 284.43, 'temp_m...</td>\n",
       "    </tr>\n",
       "  </tbody>\n",
       "</table>\n",
       "</div>"
      ],
      "text/plain": [
       "           dt                                               main  \\\n",
       "0  1731931200  {'temp': 283.75, 'feels_like': 283.22, 'temp_m...   \n",
       "1  1731942000  {'temp': 285.38, 'feels_like': 284.83, 'temp_m...   \n",
       "2  1731952800  {'temp': 285.09, 'feels_like': 284.56, 'temp_m...   \n",
       "3  1731963600  {'temp': 284.78, 'feels_like': 284.32, 'temp_m...   \n",
       "4  1731974400  {'temp': 284.95, 'feels_like': 284.43, 'temp_m...   \n",
       "\n",
       "                                             weather        clouds  \\\n",
       "0  [{'id': 803, 'main': 'Clouds', 'description': ...   {'all': 83}   \n",
       "1  [{'id': 500, 'main': 'Rain', 'description': 'l...   {'all': 92}   \n",
       "2  [{'id': 500, 'main': 'Rain', 'description': 'l...  {'all': 100}   \n",
       "3  [{'id': 500, 'main': 'Rain', 'description': 'l...  {'all': 100}   \n",
       "4  [{'id': 500, 'main': 'Rain', 'description': 'l...  {'all': 100}   \n",
       "\n",
       "                                         wind  visibility   pop           sys  \\\n",
       "0  {'speed': 5.61, 'deg': 250, 'gust': 11.77}     10000.0  0.00  {'pod': 'd'}   \n",
       "1  {'speed': 5.89, 'deg': 247, 'gust': 10.37}     10000.0  0.20  {'pod': 'd'}   \n",
       "2  {'speed': 6.46, 'deg': 238, 'gust': 12.75}     10000.0  0.22  {'pod': 'n'}   \n",
       "3   {'speed': 6.82, 'deg': 240, 'gust': 13.5}     10000.0  1.00  {'pod': 'n'}   \n",
       "4  {'speed': 8.28, 'deg': 242, 'gust': 15.02}     10000.0  1.00  {'pod': 'n'}   \n",
       "\n",
       "                dt_txt          rain snow  \\\n",
       "0  2024-11-18 12:00:00           NaN  NaN   \n",
       "1  2024-11-18 15:00:00   {'3h': 0.1}  NaN   \n",
       "2  2024-11-18 18:00:00  {'3h': 0.17}  NaN   \n",
       "3  2024-11-18 21:00:00  {'3h': 0.54}  NaN   \n",
       "4  2024-11-19 00:00:00  {'3h': 0.88}  NaN   \n",
       "\n",
       "                                                   0  \n",
       "0  {'temp': 283.75, 'feels_like': 283.22, 'temp_m...  \n",
       "1  {'temp': 285.38, 'feels_like': 284.83, 'temp_m...  \n",
       "2  {'temp': 285.09, 'feels_like': 284.56, 'temp_m...  \n",
       "3  {'temp': 284.78, 'feels_like': 284.32, 'temp_m...  \n",
       "4  {'temp': 284.95, 'feels_like': 284.43, 'temp_m...  "
      ]
     },
     "execution_count": 5,
     "metadata": {},
     "output_type": "execute_result"
    }
   ],
   "source": [
    "df_meteo.head(5)"
   ]
  },
  {
   "cell_type": "code",
   "execution_count": 42,
   "id": "dfcc24b9",
   "metadata": {},
   "outputs": [
    {
     "ename": "SyntaxError",
     "evalue": "invalid syntax (<unknown>, line 2)",
     "output_type": "error",
     "traceback": [
      "Traceback \u001b[1;36m(most recent call last)\u001b[0m:\n",
      "  File \u001b[0;32m\"C:\\Users\\JC\\anaconda3\\lib\\site-packages\\IPython\\core\\interactiveshell.py\"\u001b[0m, line \u001b[0;32m3444\u001b[0m, in \u001b[0;35mrun_code\u001b[0m\n    exec(code_obj, self.user_global_ns, self.user_ns)\n",
      "  File \u001b[0;32m\"C:\\Users\\JC\\AppData\\Local\\Temp/ipykernel_31800/867426570.py\"\u001b[0m, line \u001b[0;32m9\u001b[0m, in \u001b[0;35m<module>\u001b[0m\n    print(ast.literal_eval(str(new_row['weather'])))\n",
      "  File \u001b[0;32m\"C:\\Users\\JC\\anaconda3\\lib\\ast.py\"\u001b[0m, line \u001b[0;32m62\u001b[0m, in \u001b[0;35mliteral_eval\u001b[0m\n    node_or_string = parse(node_or_string, mode='eval')\n",
      "\u001b[1;36m  File \u001b[1;32m\"C:\\Users\\JC\\anaconda3\\lib\\ast.py\"\u001b[1;36m, line \u001b[1;32m50\u001b[1;36m, in \u001b[1;35mparse\u001b[1;36m\u001b[0m\n\u001b[1;33m    return compile(source, filename, mode, flags,\u001b[0m\n",
      "\u001b[1;36m  File \u001b[1;32m\"<unknown>\"\u001b[1;36m, line \u001b[1;32m2\u001b[0m\n\u001b[1;33m    Name: weather, dtype: object\u001b[0m\n\u001b[1;37m    ^\u001b[0m\n\u001b[1;31mSyntaxError\u001b[0m\u001b[1;31m:\u001b[0m invalid syntax\n"
     ]
    }
   ],
   "source": [
    "\n",
    "file_path = \"C:\\\\Users\\JC\\Downloads\\météo_data.csv\"\n",
    "\n",
    "df_meteo = pd.read_csv(file_path, header=0)\n",
    "\n",
    "\n",
    "new_df_transformed = pd.DataFrame()\n",
    "for index, row in df_meteo.iterrows():\n",
    "    new_row = {\"temperature\": [ast.literal_eval(row['main'])['temp']]}\n",
    "                     \n",
    "    new_row = pd.DataFrame(new_row)\n",
    "    new_df_transformed = pd.concat([new_df_transformed,new_row], ignore_index=True, axis=0)"
   ]
  },
  {
   "cell_type": "code",
   "execution_count": 23,
   "id": "0fa4fd58",
   "metadata": {},
   "outputs": [
    {
     "name": "stdout",
     "output_type": "stream",
     "text": [
      "<class 'pandas.core.frame.DataFrame'>\n",
      "RangeIndex: 80 entries, 0 to 79\n",
      "Data columns (total 3 columns):\n",
      " #   Column       Non-Null Count  Dtype  \n",
      "---  ------       --------------  -----  \n",
      " 0   temperature  80 non-null     float64\n",
      " 1   weather      80 non-null     object \n",
      " 2   clouds       80 non-null     object \n",
      "dtypes: float64(1), object(2)\n",
      "memory usage: 2.0+ KB\n"
     ]
    }
   ],
   "source": [
    "new_df_transformed.info()"
   ]
  },
  {
   "cell_type": "code",
   "execution_count": 13,
   "id": "c8e71663",
   "metadata": {},
   "outputs": [
    {
     "name": "stdout",
     "output_type": "stream",
     "text": [
      "<class 'pandas.core.frame.DataFrame'>\n",
      "RangeIndex: 80 entries, 0 to 79\n",
      "Data columns (total 12 columns):\n",
      " #   Column      Non-Null Count  Dtype  \n",
      "---  ------      --------------  -----  \n",
      " 0   dt          80 non-null     int64  \n",
      " 1   main        80 non-null     object \n",
      " 2   weather     80 non-null     object \n",
      " 3   clouds      80 non-null     object \n",
      " 4   wind        80 non-null     object \n",
      " 5   visibility  76 non-null     float64\n",
      " 6   pop         80 non-null     float64\n",
      " 7   sys         80 non-null     object \n",
      " 8   dt_txt      80 non-null     object \n",
      " 9   rain        36 non-null     object \n",
      " 10  snow        10 non-null     object \n",
      " 11  0           80 non-null     object \n",
      "dtypes: float64(2), int64(1), object(9)\n",
      "memory usage: 7.6+ KB\n"
     ]
    }
   ],
   "source": [
    "df_meteo.info()"
   ]
  },
  {
   "cell_type": "code",
   "execution_count": null,
   "id": "fa5278d0",
   "metadata": {},
   "outputs": [],
   "source": []
  }
 ],
 "metadata": {
  "kernelspec": {
   "display_name": "Python 3 (ipykernel)",
   "language": "python",
   "name": "python3"
  },
  "language_info": {
   "codemirror_mode": {
    "name": "ipython",
    "version": 3
   },
   "file_extension": ".py",
   "mimetype": "text/x-python",
   "name": "python",
   "nbconvert_exporter": "python",
   "pygments_lexer": "ipython3",
   "version": "3.9.7"
  }
 },
 "nbformat": 4,
 "nbformat_minor": 5
}
